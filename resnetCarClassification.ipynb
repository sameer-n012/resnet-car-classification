{
  "nbformat": 4,
  "nbformat_minor": 0,
  "metadata": {
    "accelerator": "GPU",
    "colab": {
      "name": "resnet 50 car classification keras.ipynb",
      "provenance": [],
      "collapsed_sections": []
    },
    "kernelspec": {
      "display_name": "Python 3",
      "language": "python",
      "name": "python3"
    },
    "language_info": {
      "codemirror_mode": {
        "name": "ipython",
        "version": 3
      },
      "file_extension": ".py",
      "mimetype": "text/x-python",
      "name": "python",
      "nbconvert_exporter": "python",
      "pygments_lexer": "ipython3",
      "version": "3.7.0"
    }
  },
  "cells": [
    {
      "cell_type": "code",
      "metadata": {
        "id": "NTwNZcxOOU6W"
      },
      "source": [
        "import tensorflow as tf\n",
        "from tensorflow.keras.preprocessing.image import ImageDataGenerator\n",
        "from tensorflow.keras.applications import ResNet50\n",
        "import os\n",
        "import tarfile\n",
        "import scipy.io as sio\n",
        "import numpy as np\n",
        "import random\n",
        "import cv2"
      ],
      "execution_count": null,
      "outputs": []
    },
    {
      "cell_type": "code",
      "metadata": {
        "id": "utnDLDHc94BP"
      },
      "source": [
        "#look at this\n",
        "#https://www.kaggle.com/jutrera/training-a-densenet-for-the-stanford-car-dataset\n",
        "#https://www.kaggle.com/mrudhuhas/classifying-cars-cnn\n",
        "#https://mlbhanuyerra.github.io/2019-10-31-ClassifyingCarImagesByVehileType/\n"
      ],
      "execution_count": null,
      "outputs": []
    },
    {
      "cell_type": "code",
      "metadata": {
        "id": "QC3espG8Ddmx"
      },
      "source": [
        "def save_train_data(fnames, labels, bboxes):\n",
        "    src_folder ='/tmp/car_ims'\n",
        "    num_samples = len(fnames)\n",
        "\n",
        "    train_split = 0.8\n",
        "    num_train = int(round(num_samples * train_split))\n",
        "    train_indexes = random.sample(range(num_samples), num_train)\n",
        "\n",
        "    for i in range(num_samples):\n",
        "        fname = fnames[i][8:]\n",
        "        label = labels[i]\n",
        "        (x1, y1, x2, y2) = bboxes[i]\n",
        "        src_path = os.path.join(src_folder, fname)\n",
        "\n",
        "        src_image = cv2.imread(src_path)\n",
        "        height, width = src_image.shape[:2]\n",
        "\n",
        "        # margins of 16 pixels (Crop image according to a given bounding box)\n",
        "        margin = 16\n",
        "        x1 = max(0, x1 - margin)\n",
        "        y1 = max(0, y1 - margin)\n",
        "        x2 = min(x2 + margin, width)\n",
        "        y2 = min(y2 + margin, height)\n",
        "\n",
        "        if i in train_indexes:\n",
        "            dst_folder = '/tmp/car_ims/train/'\n",
        "        else:\n",
        "            dst_folder = '/tmp/car_ims/valid/'\n",
        "\n",
        "        dst_path = os.path.join(dst_folder, label)\n",
        "        if not os.path.exists(dst_path):\n",
        "            os.makedirs(dst_path)\n",
        "        dst_path = os.path.join(dst_path, fname)\n",
        "        dst_image = src_image[y1:y2, x1:x2]\n",
        "        cv2.imwrite(dst_path, dst_image)"
      ],
      "execution_count": null,
      "outputs": []
    },
    {
      "cell_type": "markdown",
      "metadata": {
        "id": "L_hlq2krB2wL"
      },
      "source": [
        "### Download and Separate Data\n",
        "\n",
        "We first need to download the data from a remote server and seperate the data into training and testing sets. Note that you only need to download the data once, if you have downloaded the data before do not run the code in this section."
      ]
    },
    {
      "cell_type": "code",
      "metadata": {
        "id": "PbQqVEvLB1SZ",
        "colab": {
          "base_uri": "https://localhost:8080/",
          "height": 202
        },
        "outputId": "b2c2d0e6-8a98-4bd3-cbe3-7f9fbbb2df94"
      },
      "source": [
        "!wget --no-check-certificate \\\n",
        "  http://imagenet.stanford.edu/internal/car196/car_ims.tgz \\\n",
        "  -O /tmp/car_ims.tgz"
      ],
      "execution_count": null,
      "outputs": [
        {
          "output_type": "stream",
          "text": [
            "--2020-08-14 14:12:18--  http://imagenet.stanford.edu/internal/car196/car_ims.tgz\n",
            "Resolving imagenet.stanford.edu (imagenet.stanford.edu)... 171.64.68.16\n",
            "Connecting to imagenet.stanford.edu (imagenet.stanford.edu)|171.64.68.16|:80... connected.\n",
            "HTTP request sent, awaiting response... 200 OK\n",
            "Length: 1956628579 (1.8G) [application/x-gzip]\n",
            "Saving to: ‘/tmp/car_ims.tgz’\n",
            "\n",
            "/tmp/car_ims.tgz    100%[===================>]   1.82G  5.03MB/s    in 2m 34s  \n",
            "\n",
            "2020-08-14 14:14:52 (12.1 MB/s) - ‘/tmp/car_ims.tgz’ saved [1956628579/1956628579]\n",
            "\n"
          ],
          "name": "stdout"
        }
      ]
    },
    {
      "cell_type": "code",
      "metadata": {
        "id": "BthGtb7KCYND",
        "colab": {
          "base_uri": "https://localhost:8080/",
          "height": 202
        },
        "outputId": "245e987f-bc1b-4d2b-d370-42feb48c0b04"
      },
      "source": [
        "!wget --no-check-certificate \\\n",
        "  http://imagenet.stanford.edu/internal/car196/cars_annos.mat \\\n",
        "  -O /tmp/cars_annos.mat"
      ],
      "execution_count": null,
      "outputs": [
        {
          "output_type": "stream",
          "text": [
            "--2020-08-14 14:14:53--  http://imagenet.stanford.edu/internal/car196/cars_annos.mat\n",
            "Resolving imagenet.stanford.edu (imagenet.stanford.edu)... 171.64.68.16\n",
            "Connecting to imagenet.stanford.edu (imagenet.stanford.edu)|171.64.68.16|:80... connected.\n",
            "HTTP request sent, awaiting response... 200 OK\n",
            "Length: 394471 (385K) [text/plain]\n",
            "Saving to: ‘/tmp/cars_annos.mat’\n",
            "\n",
            "/tmp/cars_annos.mat 100%[===================>] 385.23K   220KB/s    in 1.8s    \n",
            "\n",
            "2020-08-14 14:14:56 (220 KB/s) - ‘/tmp/cars_annos.mat’ saved [394471/394471]\n",
            "\n"
          ],
          "name": "stdout"
        }
      ]
    },
    {
      "cell_type": "code",
      "metadata": {
        "id": "Jy23994RCZ-B",
        "colab": {
          "base_uri": "https://localhost:8080/",
          "height": 202
        },
        "outputId": "9af194d3-4990-4d77-89f2-3459d42e94fd"
      },
      "source": [
        "!wget --no-check-certificate \\\n",
        "  http://imagenet.stanford.edu/internal/car196/cars_test_annos_withlabels.mat \\\n",
        "  -O /tmp/cars_test_annos.mat"
      ],
      "execution_count": null,
      "outputs": [
        {
          "output_type": "stream",
          "text": [
            "--2020-08-14 14:14:57--  http://imagenet.stanford.edu/internal/car196/cars_test_annos_withlabels.mat\n",
            "Resolving imagenet.stanford.edu (imagenet.stanford.edu)... 171.64.68.16\n",
            "Connecting to imagenet.stanford.edu (imagenet.stanford.edu)|171.64.68.16|:80... connected.\n",
            "HTTP request sent, awaiting response... 200 OK\n",
            "Length: 185758 (181K) [text/plain]\n",
            "Saving to: ‘/tmp/cars_test_annos.mat’\n",
            "\n",
            "/tmp/cars_test_anno 100%[===================>] 181.40K   168KB/s    in 1.1s    \n",
            "\n",
            "2020-08-14 14:14:58 (168 KB/s) - ‘/tmp/cars_test_annos.mat’ saved [185758/185758]\n",
            "\n"
          ],
          "name": "stdout"
        }
      ]
    },
    {
      "cell_type": "code",
      "metadata": {
        "id": "OCVPIypoCu5p"
      },
      "source": [
        "!rm -rf /tmp/car_ims/train/\n",
        "!rm -rf /tmp/car_ims/test/\n",
        "!rm -rf /tmp/car_ims/valid/"
      ],
      "execution_count": null,
      "outputs": []
    },
    {
      "cell_type": "markdown",
      "metadata": {
        "id": "yeu2slZpDOr5"
      },
      "source": [
        "Unzip the compressed data. (You do not need to understand how this works)"
      ]
    },
    {
      "cell_type": "code",
      "metadata": {
        "id": "AXO1W3XyDFBI"
      },
      "source": [
        "local_tar = '/tmp/car_ims.tgz'\n",
        "my_tar = tarfile.open(local_tar)\n",
        "my_tar.extractall('/tmp')\n",
        "my_tar.close()"
      ],
      "execution_count": null,
      "outputs": []
    },
    {
      "cell_type": "code",
      "metadata": {
        "id": "9DEM73RDDZXZ",
        "colab": {
          "base_uri": "https://localhost:8080/",
          "height": 218
        },
        "outputId": "83c2a42a-3136-4cfc-ec59-c8634a938483"
      },
      "source": [
        "car_annotation= sio.loadmat('/tmp/cars_annos.mat')\n",
        "\n",
        "annotations = car_annotation['annotations']\n",
        "annotations = np.transpose(annotations)\n",
        "\n",
        "fnames = []\n",
        "class_ids = []\n",
        "labels = []\n",
        "bboxes  = []\n",
        "for annotation in annotations:\n",
        "  bbox_x1 = annotation[0][1][0][0]\n",
        "  bbox_y1 = annotation[0][2][0][0]\n",
        "  bbox_x2 = annotation[0][3][0][0]\n",
        "  bbox_y2 = annotation[0][4][0][0]\n",
        "\n",
        "  class_id = annotation[0][5][0][0]\n",
        "  bboxes.append((bbox_x1, bbox_y1, bbox_x2, bbox_y2))\n",
        "  labels.append(f'{class_id:06}')\n",
        "\n",
        "  file_name = annotation[0][0][0]\n",
        "  class_ids.append(class_id)\n",
        "  fnames.append(file_name)\n",
        "\n",
        "labels_count = np.unique(class_ids).shape[0]\n",
        "print(np.unique(class_ids))\n",
        "print('The number of different cars is %d' % labels_count)\n",
        "\n",
        "save_train_data(fnames, labels, bboxes)"
      ],
      "execution_count": null,
      "outputs": [
        {
          "output_type": "stream",
          "text": [
            "[  1   2   3   4   5   6   7   8   9  10  11  12  13  14  15  16  17  18\n",
            "  19  20  21  22  23  24  25  26  27  28  29  30  31  32  33  34  35  36\n",
            "  37  38  39  40  41  42  43  44  45  46  47  48  49  50  51  52  53  54\n",
            "  55  56  57  58  59  60  61  62  63  64  65  66  67  68  69  70  71  72\n",
            "  73  74  75  76  77  78  79  80  81  82  83  84  85  86  87  88  89  90\n",
            "  91  92  93  94  95  96  97  98  99 100 101 102 103 104 105 106 107 108\n",
            " 109 110 111 112 113 114 115 116 117 118 119 120 121 122 123 124 125 126\n",
            " 127 128 129 130 131 132 133 134 135 136 137 138 139 140 141 142 143 144\n",
            " 145 146 147 148 149 150 151 152 153 154 155 156 157 158 159 160 161 162\n",
            " 163 164 165 166 167 168 169 170 171 172 173 174 175 176 177 178 179 180\n",
            " 181 182 183 184 185 186 187 188 189 190 191 192 193 194 195 196]\n",
            "The number of different cars is 196\n"
          ],
          "name": "stdout"
        }
      ]
    },
    {
      "cell_type": "code",
      "metadata": {
        "id": "uMrKx3Ig3iBF",
        "colab": {
          "base_uri": "https://localhost:8080/",
          "height": 171
        },
        "outputId": "1e4d7192-eb01-4d8f-df35-0afd513fc7f2"
      },
      "source": [
        "annotations"
      ],
      "execution_count": null,
      "outputs": [
        {
          "output_type": "execute_result",
          "data": {
            "text/plain": [
              "array([[(array(['car_ims/000001.jpg'], dtype='<U18'), array([[112]], dtype=uint8), array([[7]], dtype=uint8), array([[853]], dtype=uint16), array([[717]], dtype=uint16), array([[1]], dtype=uint8), array([[0]], dtype=uint8))],\n",
              "       [(array(['car_ims/000002.jpg'], dtype='<U18'), array([[48]], dtype=uint8), array([[24]], dtype=uint8), array([[441]], dtype=uint16), array([[202]], dtype=uint8), array([[1]], dtype=uint8), array([[0]], dtype=uint8))],\n",
              "       [(array(['car_ims/000003.jpg'], dtype='<U18'), array([[7]], dtype=uint8), array([[4]], dtype=uint8), array([[277]], dtype=uint16), array([[180]], dtype=uint8), array([[1]], dtype=uint8), array([[0]], dtype=uint8))],\n",
              "       ...,\n",
              "       [(array(['car_ims/016183.jpg'], dtype='<U18'), array([[25]], dtype=uint8), array([[32]], dtype=uint8), array([[587]], dtype=uint16), array([[359]], dtype=uint16), array([[196]], dtype=uint8), array([[1]], dtype=uint8))],\n",
              "       [(array(['car_ims/016184.jpg'], dtype='<U18'), array([[56]], dtype=uint8), array([[60]], dtype=uint8), array([[208]], dtype=uint8), array([[186]], dtype=uint8), array([[196]], dtype=uint8), array([[1]], dtype=uint8))],\n",
              "       [(array(['car_ims/016185.jpg'], dtype='<U18'), array([[1]], dtype=uint8), array([[1]], dtype=uint8), array([[200]], dtype=uint8), array([[131]], dtype=uint8), array([[196]], dtype=uint8), array([[1]], dtype=uint8))]],\n",
              "      dtype=[('relative_im_path', 'O'), ('bbox_x1', 'O'), ('bbox_y1', 'O'), ('bbox_x2', 'O'), ('bbox_y2', 'O'), ('class', 'O'), ('test', 'O')])"
            ]
          },
          "metadata": {
            "tags": []
          },
          "execution_count": 62
        }
      ]
    },
    {
      "cell_type": "markdown",
      "metadata": {
        "id": "e7Wx92qVDv6T"
      },
      "source": [
        "### Create a data generator"
      ]
    },
    {
      "cell_type": "code",
      "metadata": {
        "id": "9gJN7b7FOU6f",
        "colab": {
          "base_uri": "https://localhost:8080/",
          "height": 50
        },
        "outputId": "6d9713df-2e3f-43f8-f5ad-9ca78bf4ad08"
      },
      "source": [
        "datagen = ImageDataGenerator()\n",
        "train_iter = datagen.flow_from_directory('/tmp/car_ims/train/', target_size=(224, 224), class_mode='categorical', batch_size=32)\n",
        "test_iter = datagen.flow_from_directory('/tmp/car_ims/valid/', target_size=(224, 224), class_mode='categorical', batch_size=32)"
      ],
      "execution_count": null,
      "outputs": [
        {
          "output_type": "stream",
          "text": [
            "Found 12948 images belonging to 196 classes.\n",
            "Found 3237 images belonging to 196 classes.\n"
          ],
          "name": "stdout"
        }
      ]
    },
    {
      "cell_type": "code",
      "metadata": {
        "id": "jy9U10O_H-1l",
        "colab": {
          "base_uri": "https://localhost:8080/",
          "height": 34
        },
        "outputId": "db787837-3e4d-4a3a-dff1-ac39ccd15bcb"
      },
      "source": [
        "print(train_iter[0][0].shape)"
      ],
      "execution_count": null,
      "outputs": [
        {
          "output_type": "stream",
          "text": [
            "(32, 224, 224, 3)\n"
          ],
          "name": "stdout"
        }
      ]
    },
    {
      "cell_type": "markdown",
      "metadata": {
        "id": "yQzT7X6O9AwA"
      },
      "source": [
        "### Build Model"
      ]
    },
    {
      "cell_type": "code",
      "metadata": {
        "id": "H8mAz2MuOU6k"
      },
      "source": [
        "# TODO\n",
        "from tensorflow.keras.applications import ResNet50V2\n",
        "from tensorflow.keras import datasets, models\n",
        "from tensorflow.keras.layers import Dense, Flatten, Dropout, MaxPooling2D, BatchNormalization, GlobalAveragePooling2D\n",
        "import matplotlib.pyplot as plt\n",
        "import matplotlib.image as mpimg\n",
        "from keras.models import Model"
      ],
      "execution_count": null,
      "outputs": []
    },
    {
      "cell_type": "code",
      "metadata": {
        "id": "LiAasafyboLH",
        "colab": {
          "base_uri": "https://localhost:8080/",
          "height": 70
        },
        "outputId": "0f744172-fe4f-46b7-dab3-d5e52cfa352e"
      },
      "source": [
        "#resnet?\n",
        "resnet = ResNet50V2(weights=\"imagenet\", include_top=False, input_shape = (224, 224, 3))\n",
        "x = (resnet.output)\n",
        "x = GlobalAveragePooling2D()(x)\n",
        "x = Dense(2048, activation='relu')(x)\n",
        "x = Dense(2048, activation='relu')(x)\n",
        "x = BatchNormalization()(x)\n",
        "x = Dropout(0.6)(x)\n",
        "predictions = Dense(196, activation='softmax')(x)\n",
        "\n",
        "model = Model(inputs=resnet.input, outputs=predictions)\n",
        "\n",
        "for layer in model.layers[:30]:\n",
        "    layer.trainable=False\n",
        "for layer in model.layers[30:]:\n",
        "    layer.trainable=True\n",
        "\n",
        "optimizer = tf.keras.optimizers.Adam(lr=0.0001)\n",
        "\n",
        "model.compile(optimizer = optimizer, \n",
        "              loss = 'categorical_crossentropy', \n",
        "              metrics = ['accuracy'])\n",
        "\n",
        "reduce_lr = tf.keras.callbacks.ReduceLROnPlateau('val_accuracy', factor = 0.1, patience = 1)\n"
      ],
      "execution_count": null,
      "outputs": [
        {
          "output_type": "stream",
          "text": [
            "Downloading data from https://storage.googleapis.com/tensorflow/keras-applications/resnet/resnet50v2_weights_tf_dim_ordering_tf_kernels_notop.h5\n",
            "94674944/94668760 [==============================] - 5s 0us/step\n"
          ],
          "name": "stdout"
        }
      ]
    },
    {
      "cell_type": "code",
      "metadata": {
        "id": "lfR-fImkHu4c",
        "colab": {
          "base_uri": "https://localhost:8080/",
          "height": 1000
        },
        "outputId": "23702b88-29b8-481b-8ccd-6db410d2ddfe"
      },
      "source": [
        "model.summary()"
      ],
      "execution_count": null,
      "outputs": [
        {
          "output_type": "stream",
          "text": [
            "Model: \"functional_1\"\n",
            "__________________________________________________________________________________________________\n",
            "Layer (type)                    Output Shape         Param #     Connected to                     \n",
            "==================================================================================================\n",
            "input_1 (InputLayer)            [(None, 224, 224, 3) 0                                            \n",
            "__________________________________________________________________________________________________\n",
            "conv1_pad (ZeroPadding2D)       (None, 230, 230, 3)  0           input_1[0][0]                    \n",
            "__________________________________________________________________________________________________\n",
            "conv1_conv (Conv2D)             (None, 112, 112, 64) 9472        conv1_pad[0][0]                  \n",
            "__________________________________________________________________________________________________\n",
            "pool1_pad (ZeroPadding2D)       (None, 114, 114, 64) 0           conv1_conv[0][0]                 \n",
            "__________________________________________________________________________________________________\n",
            "pool1_pool (MaxPooling2D)       (None, 56, 56, 64)   0           pool1_pad[0][0]                  \n",
            "__________________________________________________________________________________________________\n",
            "conv2_block1_preact_bn (BatchNo (None, 56, 56, 64)   256         pool1_pool[0][0]                 \n",
            "__________________________________________________________________________________________________\n",
            "conv2_block1_preact_relu (Activ (None, 56, 56, 64)   0           conv2_block1_preact_bn[0][0]     \n",
            "__________________________________________________________________________________________________\n",
            "conv2_block1_1_conv (Conv2D)    (None, 56, 56, 64)   4096        conv2_block1_preact_relu[0][0]   \n",
            "__________________________________________________________________________________________________\n",
            "conv2_block1_1_bn (BatchNormali (None, 56, 56, 64)   256         conv2_block1_1_conv[0][0]        \n",
            "__________________________________________________________________________________________________\n",
            "conv2_block1_1_relu (Activation (None, 56, 56, 64)   0           conv2_block1_1_bn[0][0]          \n",
            "__________________________________________________________________________________________________\n",
            "conv2_block1_2_pad (ZeroPadding (None, 58, 58, 64)   0           conv2_block1_1_relu[0][0]        \n",
            "__________________________________________________________________________________________________\n",
            "conv2_block1_2_conv (Conv2D)    (None, 56, 56, 64)   36864       conv2_block1_2_pad[0][0]         \n",
            "__________________________________________________________________________________________________\n",
            "conv2_block1_2_bn (BatchNormali (None, 56, 56, 64)   256         conv2_block1_2_conv[0][0]        \n",
            "__________________________________________________________________________________________________\n",
            "conv2_block1_2_relu (Activation (None, 56, 56, 64)   0           conv2_block1_2_bn[0][0]          \n",
            "__________________________________________________________________________________________________\n",
            "conv2_block1_0_conv (Conv2D)    (None, 56, 56, 256)  16640       conv2_block1_preact_relu[0][0]   \n",
            "__________________________________________________________________________________________________\n",
            "conv2_block1_3_conv (Conv2D)    (None, 56, 56, 256)  16640       conv2_block1_2_relu[0][0]        \n",
            "__________________________________________________________________________________________________\n",
            "conv2_block1_out (Add)          (None, 56, 56, 256)  0           conv2_block1_0_conv[0][0]        \n",
            "                                                                 conv2_block1_3_conv[0][0]        \n",
            "__________________________________________________________________________________________________\n",
            "conv2_block2_preact_bn (BatchNo (None, 56, 56, 256)  1024        conv2_block1_out[0][0]           \n",
            "__________________________________________________________________________________________________\n",
            "conv2_block2_preact_relu (Activ (None, 56, 56, 256)  0           conv2_block2_preact_bn[0][0]     \n",
            "__________________________________________________________________________________________________\n",
            "conv2_block2_1_conv (Conv2D)    (None, 56, 56, 64)   16384       conv2_block2_preact_relu[0][0]   \n",
            "__________________________________________________________________________________________________\n",
            "conv2_block2_1_bn (BatchNormali (None, 56, 56, 64)   256         conv2_block2_1_conv[0][0]        \n",
            "__________________________________________________________________________________________________\n",
            "conv2_block2_1_relu (Activation (None, 56, 56, 64)   0           conv2_block2_1_bn[0][0]          \n",
            "__________________________________________________________________________________________________\n",
            "conv2_block2_2_pad (ZeroPadding (None, 58, 58, 64)   0           conv2_block2_1_relu[0][0]        \n",
            "__________________________________________________________________________________________________\n",
            "conv2_block2_2_conv (Conv2D)    (None, 56, 56, 64)   36864       conv2_block2_2_pad[0][0]         \n",
            "__________________________________________________________________________________________________\n",
            "conv2_block2_2_bn (BatchNormali (None, 56, 56, 64)   256         conv2_block2_2_conv[0][0]        \n",
            "__________________________________________________________________________________________________\n",
            "conv2_block2_2_relu (Activation (None, 56, 56, 64)   0           conv2_block2_2_bn[0][0]          \n",
            "__________________________________________________________________________________________________\n",
            "conv2_block2_3_conv (Conv2D)    (None, 56, 56, 256)  16640       conv2_block2_2_relu[0][0]        \n",
            "__________________________________________________________________________________________________\n",
            "conv2_block2_out (Add)          (None, 56, 56, 256)  0           conv2_block1_out[0][0]           \n",
            "                                                                 conv2_block2_3_conv[0][0]        \n",
            "__________________________________________________________________________________________________\n",
            "conv2_block3_preact_bn (BatchNo (None, 56, 56, 256)  1024        conv2_block2_out[0][0]           \n",
            "__________________________________________________________________________________________________\n",
            "conv2_block3_preact_relu (Activ (None, 56, 56, 256)  0           conv2_block3_preact_bn[0][0]     \n",
            "__________________________________________________________________________________________________\n",
            "conv2_block3_1_conv (Conv2D)    (None, 56, 56, 64)   16384       conv2_block3_preact_relu[0][0]   \n",
            "__________________________________________________________________________________________________\n",
            "conv2_block3_1_bn (BatchNormali (None, 56, 56, 64)   256         conv2_block3_1_conv[0][0]        \n",
            "__________________________________________________________________________________________________\n",
            "conv2_block3_1_relu (Activation (None, 56, 56, 64)   0           conv2_block3_1_bn[0][0]          \n",
            "__________________________________________________________________________________________________\n",
            "conv2_block3_2_pad (ZeroPadding (None, 58, 58, 64)   0           conv2_block3_1_relu[0][0]        \n",
            "__________________________________________________________________________________________________\n",
            "conv2_block3_2_conv (Conv2D)    (None, 28, 28, 64)   36864       conv2_block3_2_pad[0][0]         \n",
            "__________________________________________________________________________________________________\n",
            "conv2_block3_2_bn (BatchNormali (None, 28, 28, 64)   256         conv2_block3_2_conv[0][0]        \n",
            "__________________________________________________________________________________________________\n",
            "conv2_block3_2_relu (Activation (None, 28, 28, 64)   0           conv2_block3_2_bn[0][0]          \n",
            "__________________________________________________________________________________________________\n",
            "max_pooling2d (MaxPooling2D)    (None, 28, 28, 256)  0           conv2_block2_out[0][0]           \n",
            "__________________________________________________________________________________________________\n",
            "conv2_block3_3_conv (Conv2D)    (None, 28, 28, 256)  16640       conv2_block3_2_relu[0][0]        \n",
            "__________________________________________________________________________________________________\n",
            "conv2_block3_out (Add)          (None, 28, 28, 256)  0           max_pooling2d[0][0]              \n",
            "                                                                 conv2_block3_3_conv[0][0]        \n",
            "__________________________________________________________________________________________________\n",
            "conv3_block1_preact_bn (BatchNo (None, 28, 28, 256)  1024        conv2_block3_out[0][0]           \n",
            "__________________________________________________________________________________________________\n",
            "conv3_block1_preact_relu (Activ (None, 28, 28, 256)  0           conv3_block1_preact_bn[0][0]     \n",
            "__________________________________________________________________________________________________\n",
            "conv3_block1_1_conv (Conv2D)    (None, 28, 28, 128)  32768       conv3_block1_preact_relu[0][0]   \n",
            "__________________________________________________________________________________________________\n",
            "conv3_block1_1_bn (BatchNormali (None, 28, 28, 128)  512         conv3_block1_1_conv[0][0]        \n",
            "__________________________________________________________________________________________________\n",
            "conv3_block1_1_relu (Activation (None, 28, 28, 128)  0           conv3_block1_1_bn[0][0]          \n",
            "__________________________________________________________________________________________________\n",
            "conv3_block1_2_pad (ZeroPadding (None, 30, 30, 128)  0           conv3_block1_1_relu[0][0]        \n",
            "__________________________________________________________________________________________________\n",
            "conv3_block1_2_conv (Conv2D)    (None, 28, 28, 128)  147456      conv3_block1_2_pad[0][0]         \n",
            "__________________________________________________________________________________________________\n",
            "conv3_block1_2_bn (BatchNormali (None, 28, 28, 128)  512         conv3_block1_2_conv[0][0]        \n",
            "__________________________________________________________________________________________________\n",
            "conv3_block1_2_relu (Activation (None, 28, 28, 128)  0           conv3_block1_2_bn[0][0]          \n",
            "__________________________________________________________________________________________________\n",
            "conv3_block1_0_conv (Conv2D)    (None, 28, 28, 512)  131584      conv3_block1_preact_relu[0][0]   \n",
            "__________________________________________________________________________________________________\n",
            "conv3_block1_3_conv (Conv2D)    (None, 28, 28, 512)  66048       conv3_block1_2_relu[0][0]        \n",
            "__________________________________________________________________________________________________\n",
            "conv3_block1_out (Add)          (None, 28, 28, 512)  0           conv3_block1_0_conv[0][0]        \n",
            "                                                                 conv3_block1_3_conv[0][0]        \n",
            "__________________________________________________________________________________________________\n",
            "conv3_block2_preact_bn (BatchNo (None, 28, 28, 512)  2048        conv3_block1_out[0][0]           \n",
            "__________________________________________________________________________________________________\n",
            "conv3_block2_preact_relu (Activ (None, 28, 28, 512)  0           conv3_block2_preact_bn[0][0]     \n",
            "__________________________________________________________________________________________________\n",
            "conv3_block2_1_conv (Conv2D)    (None, 28, 28, 128)  65536       conv3_block2_preact_relu[0][0]   \n",
            "__________________________________________________________________________________________________\n",
            "conv3_block2_1_bn (BatchNormali (None, 28, 28, 128)  512         conv3_block2_1_conv[0][0]        \n",
            "__________________________________________________________________________________________________\n",
            "conv3_block2_1_relu (Activation (None, 28, 28, 128)  0           conv3_block2_1_bn[0][0]          \n",
            "__________________________________________________________________________________________________\n",
            "conv3_block2_2_pad (ZeroPadding (None, 30, 30, 128)  0           conv3_block2_1_relu[0][0]        \n",
            "__________________________________________________________________________________________________\n",
            "conv3_block2_2_conv (Conv2D)    (None, 28, 28, 128)  147456      conv3_block2_2_pad[0][0]         \n",
            "__________________________________________________________________________________________________\n",
            "conv3_block2_2_bn (BatchNormali (None, 28, 28, 128)  512         conv3_block2_2_conv[0][0]        \n",
            "__________________________________________________________________________________________________\n",
            "conv3_block2_2_relu (Activation (None, 28, 28, 128)  0           conv3_block2_2_bn[0][0]          \n",
            "__________________________________________________________________________________________________\n",
            "conv3_block2_3_conv (Conv2D)    (None, 28, 28, 512)  66048       conv3_block2_2_relu[0][0]        \n",
            "__________________________________________________________________________________________________\n",
            "conv3_block2_out (Add)          (None, 28, 28, 512)  0           conv3_block1_out[0][0]           \n",
            "                                                                 conv3_block2_3_conv[0][0]        \n",
            "__________________________________________________________________________________________________\n",
            "conv3_block3_preact_bn (BatchNo (None, 28, 28, 512)  2048        conv3_block2_out[0][0]           \n",
            "__________________________________________________________________________________________________\n",
            "conv3_block3_preact_relu (Activ (None, 28, 28, 512)  0           conv3_block3_preact_bn[0][0]     \n",
            "__________________________________________________________________________________________________\n",
            "conv3_block3_1_conv (Conv2D)    (None, 28, 28, 128)  65536       conv3_block3_preact_relu[0][0]   \n",
            "__________________________________________________________________________________________________\n",
            "conv3_block3_1_bn (BatchNormali (None, 28, 28, 128)  512         conv3_block3_1_conv[0][0]        \n",
            "__________________________________________________________________________________________________\n",
            "conv3_block3_1_relu (Activation (None, 28, 28, 128)  0           conv3_block3_1_bn[0][0]          \n",
            "__________________________________________________________________________________________________\n",
            "conv3_block3_2_pad (ZeroPadding (None, 30, 30, 128)  0           conv3_block3_1_relu[0][0]        \n",
            "__________________________________________________________________________________________________\n",
            "conv3_block3_2_conv (Conv2D)    (None, 28, 28, 128)  147456      conv3_block3_2_pad[0][0]         \n",
            "__________________________________________________________________________________________________\n",
            "conv3_block3_2_bn (BatchNormali (None, 28, 28, 128)  512         conv3_block3_2_conv[0][0]        \n",
            "__________________________________________________________________________________________________\n",
            "conv3_block3_2_relu (Activation (None, 28, 28, 128)  0           conv3_block3_2_bn[0][0]          \n",
            "__________________________________________________________________________________________________\n",
            "conv3_block3_3_conv (Conv2D)    (None, 28, 28, 512)  66048       conv3_block3_2_relu[0][0]        \n",
            "__________________________________________________________________________________________________\n",
            "conv3_block3_out (Add)          (None, 28, 28, 512)  0           conv3_block2_out[0][0]           \n",
            "                                                                 conv3_block3_3_conv[0][0]        \n",
            "__________________________________________________________________________________________________\n",
            "conv3_block4_preact_bn (BatchNo (None, 28, 28, 512)  2048        conv3_block3_out[0][0]           \n",
            "__________________________________________________________________________________________________\n",
            "conv3_block4_preact_relu (Activ (None, 28, 28, 512)  0           conv3_block4_preact_bn[0][0]     \n",
            "__________________________________________________________________________________________________\n",
            "conv3_block4_1_conv (Conv2D)    (None, 28, 28, 128)  65536       conv3_block4_preact_relu[0][0]   \n",
            "__________________________________________________________________________________________________\n",
            "conv3_block4_1_bn (BatchNormali (None, 28, 28, 128)  512         conv3_block4_1_conv[0][0]        \n",
            "__________________________________________________________________________________________________\n",
            "conv3_block4_1_relu (Activation (None, 28, 28, 128)  0           conv3_block4_1_bn[0][0]          \n",
            "__________________________________________________________________________________________________\n",
            "conv3_block4_2_pad (ZeroPadding (None, 30, 30, 128)  0           conv3_block4_1_relu[0][0]        \n",
            "__________________________________________________________________________________________________\n",
            "conv3_block4_2_conv (Conv2D)    (None, 14, 14, 128)  147456      conv3_block4_2_pad[0][0]         \n",
            "__________________________________________________________________________________________________\n",
            "conv3_block4_2_bn (BatchNormali (None, 14, 14, 128)  512         conv3_block4_2_conv[0][0]        \n",
            "__________________________________________________________________________________________________\n",
            "conv3_block4_2_relu (Activation (None, 14, 14, 128)  0           conv3_block4_2_bn[0][0]          \n",
            "__________________________________________________________________________________________________\n",
            "max_pooling2d_1 (MaxPooling2D)  (None, 14, 14, 512)  0           conv3_block3_out[0][0]           \n",
            "__________________________________________________________________________________________________\n",
            "conv3_block4_3_conv (Conv2D)    (None, 14, 14, 512)  66048       conv3_block4_2_relu[0][0]        \n",
            "__________________________________________________________________________________________________\n",
            "conv3_block4_out (Add)          (None, 14, 14, 512)  0           max_pooling2d_1[0][0]            \n",
            "                                                                 conv3_block4_3_conv[0][0]        \n",
            "__________________________________________________________________________________________________\n",
            "conv4_block1_preact_bn (BatchNo (None, 14, 14, 512)  2048        conv3_block4_out[0][0]           \n",
            "__________________________________________________________________________________________________\n",
            "conv4_block1_preact_relu (Activ (None, 14, 14, 512)  0           conv4_block1_preact_bn[0][0]     \n",
            "__________________________________________________________________________________________________\n",
            "conv4_block1_1_conv (Conv2D)    (None, 14, 14, 256)  131072      conv4_block1_preact_relu[0][0]   \n",
            "__________________________________________________________________________________________________\n",
            "conv4_block1_1_bn (BatchNormali (None, 14, 14, 256)  1024        conv4_block1_1_conv[0][0]        \n",
            "__________________________________________________________________________________________________\n",
            "conv4_block1_1_relu (Activation (None, 14, 14, 256)  0           conv4_block1_1_bn[0][0]          \n",
            "__________________________________________________________________________________________________\n",
            "conv4_block1_2_pad (ZeroPadding (None, 16, 16, 256)  0           conv4_block1_1_relu[0][0]        \n",
            "__________________________________________________________________________________________________\n",
            "conv4_block1_2_conv (Conv2D)    (None, 14, 14, 256)  589824      conv4_block1_2_pad[0][0]         \n",
            "__________________________________________________________________________________________________\n",
            "conv4_block1_2_bn (BatchNormali (None, 14, 14, 256)  1024        conv4_block1_2_conv[0][0]        \n",
            "__________________________________________________________________________________________________\n",
            "conv4_block1_2_relu (Activation (None, 14, 14, 256)  0           conv4_block1_2_bn[0][0]          \n",
            "__________________________________________________________________________________________________\n",
            "conv4_block1_0_conv (Conv2D)    (None, 14, 14, 1024) 525312      conv4_block1_preact_relu[0][0]   \n",
            "__________________________________________________________________________________________________\n",
            "conv4_block1_3_conv (Conv2D)    (None, 14, 14, 1024) 263168      conv4_block1_2_relu[0][0]        \n",
            "__________________________________________________________________________________________________\n",
            "conv4_block1_out (Add)          (None, 14, 14, 1024) 0           conv4_block1_0_conv[0][0]        \n",
            "                                                                 conv4_block1_3_conv[0][0]        \n",
            "__________________________________________________________________________________________________\n",
            "conv4_block2_preact_bn (BatchNo (None, 14, 14, 1024) 4096        conv4_block1_out[0][0]           \n",
            "__________________________________________________________________________________________________\n",
            "conv4_block2_preact_relu (Activ (None, 14, 14, 1024) 0           conv4_block2_preact_bn[0][0]     \n",
            "__________________________________________________________________________________________________\n",
            "conv4_block2_1_conv (Conv2D)    (None, 14, 14, 256)  262144      conv4_block2_preact_relu[0][0]   \n",
            "__________________________________________________________________________________________________\n",
            "conv4_block2_1_bn (BatchNormali (None, 14, 14, 256)  1024        conv4_block2_1_conv[0][0]        \n",
            "__________________________________________________________________________________________________\n",
            "conv4_block2_1_relu (Activation (None, 14, 14, 256)  0           conv4_block2_1_bn[0][0]          \n",
            "__________________________________________________________________________________________________\n",
            "conv4_block2_2_pad (ZeroPadding (None, 16, 16, 256)  0           conv4_block2_1_relu[0][0]        \n",
            "__________________________________________________________________________________________________\n",
            "conv4_block2_2_conv (Conv2D)    (None, 14, 14, 256)  589824      conv4_block2_2_pad[0][0]         \n",
            "__________________________________________________________________________________________________\n",
            "conv4_block2_2_bn (BatchNormali (None, 14, 14, 256)  1024        conv4_block2_2_conv[0][0]        \n",
            "__________________________________________________________________________________________________\n",
            "conv4_block2_2_relu (Activation (None, 14, 14, 256)  0           conv4_block2_2_bn[0][0]          \n",
            "__________________________________________________________________________________________________\n",
            "conv4_block2_3_conv (Conv2D)    (None, 14, 14, 1024) 263168      conv4_block2_2_relu[0][0]        \n",
            "__________________________________________________________________________________________________\n",
            "conv4_block2_out (Add)          (None, 14, 14, 1024) 0           conv4_block1_out[0][0]           \n",
            "                                                                 conv4_block2_3_conv[0][0]        \n",
            "__________________________________________________________________________________________________\n",
            "conv4_block3_preact_bn (BatchNo (None, 14, 14, 1024) 4096        conv4_block2_out[0][0]           \n",
            "__________________________________________________________________________________________________\n",
            "conv4_block3_preact_relu (Activ (None, 14, 14, 1024) 0           conv4_block3_preact_bn[0][0]     \n",
            "__________________________________________________________________________________________________\n",
            "conv4_block3_1_conv (Conv2D)    (None, 14, 14, 256)  262144      conv4_block3_preact_relu[0][0]   \n",
            "__________________________________________________________________________________________________\n",
            "conv4_block3_1_bn (BatchNormali (None, 14, 14, 256)  1024        conv4_block3_1_conv[0][0]        \n",
            "__________________________________________________________________________________________________\n",
            "conv4_block3_1_relu (Activation (None, 14, 14, 256)  0           conv4_block3_1_bn[0][0]          \n",
            "__________________________________________________________________________________________________\n",
            "conv4_block3_2_pad (ZeroPadding (None, 16, 16, 256)  0           conv4_block3_1_relu[0][0]        \n",
            "__________________________________________________________________________________________________\n",
            "conv4_block3_2_conv (Conv2D)    (None, 14, 14, 256)  589824      conv4_block3_2_pad[0][0]         \n",
            "__________________________________________________________________________________________________\n",
            "conv4_block3_2_bn (BatchNormali (None, 14, 14, 256)  1024        conv4_block3_2_conv[0][0]        \n",
            "__________________________________________________________________________________________________\n",
            "conv4_block3_2_relu (Activation (None, 14, 14, 256)  0           conv4_block3_2_bn[0][0]          \n",
            "__________________________________________________________________________________________________\n",
            "conv4_block3_3_conv (Conv2D)    (None, 14, 14, 1024) 263168      conv4_block3_2_relu[0][0]        \n",
            "__________________________________________________________________________________________________\n",
            "conv4_block3_out (Add)          (None, 14, 14, 1024) 0           conv4_block2_out[0][0]           \n",
            "                                                                 conv4_block3_3_conv[0][0]        \n",
            "__________________________________________________________________________________________________\n",
            "conv4_block4_preact_bn (BatchNo (None, 14, 14, 1024) 4096        conv4_block3_out[0][0]           \n",
            "__________________________________________________________________________________________________\n",
            "conv4_block4_preact_relu (Activ (None, 14, 14, 1024) 0           conv4_block4_preact_bn[0][0]     \n",
            "__________________________________________________________________________________________________\n",
            "conv4_block4_1_conv (Conv2D)    (None, 14, 14, 256)  262144      conv4_block4_preact_relu[0][0]   \n",
            "__________________________________________________________________________________________________\n",
            "conv4_block4_1_bn (BatchNormali (None, 14, 14, 256)  1024        conv4_block4_1_conv[0][0]        \n",
            "__________________________________________________________________________________________________\n",
            "conv4_block4_1_relu (Activation (None, 14, 14, 256)  0           conv4_block4_1_bn[0][0]          \n",
            "__________________________________________________________________________________________________\n",
            "conv4_block4_2_pad (ZeroPadding (None, 16, 16, 256)  0           conv4_block4_1_relu[0][0]        \n",
            "__________________________________________________________________________________________________\n",
            "conv4_block4_2_conv (Conv2D)    (None, 14, 14, 256)  589824      conv4_block4_2_pad[0][0]         \n",
            "__________________________________________________________________________________________________\n",
            "conv4_block4_2_bn (BatchNormali (None, 14, 14, 256)  1024        conv4_block4_2_conv[0][0]        \n",
            "__________________________________________________________________________________________________\n",
            "conv4_block4_2_relu (Activation (None, 14, 14, 256)  0           conv4_block4_2_bn[0][0]          \n",
            "__________________________________________________________________________________________________\n",
            "conv4_block4_3_conv (Conv2D)    (None, 14, 14, 1024) 263168      conv4_block4_2_relu[0][0]        \n",
            "__________________________________________________________________________________________________\n",
            "conv4_block4_out (Add)          (None, 14, 14, 1024) 0           conv4_block3_out[0][0]           \n",
            "                                                                 conv4_block4_3_conv[0][0]        \n",
            "__________________________________________________________________________________________________\n",
            "conv4_block5_preact_bn (BatchNo (None, 14, 14, 1024) 4096        conv4_block4_out[0][0]           \n",
            "__________________________________________________________________________________________________\n",
            "conv4_block5_preact_relu (Activ (None, 14, 14, 1024) 0           conv4_block5_preact_bn[0][0]     \n",
            "__________________________________________________________________________________________________\n",
            "conv4_block5_1_conv (Conv2D)    (None, 14, 14, 256)  262144      conv4_block5_preact_relu[0][0]   \n",
            "__________________________________________________________________________________________________\n",
            "conv4_block5_1_bn (BatchNormali (None, 14, 14, 256)  1024        conv4_block5_1_conv[0][0]        \n",
            "__________________________________________________________________________________________________\n",
            "conv4_block5_1_relu (Activation (None, 14, 14, 256)  0           conv4_block5_1_bn[0][0]          \n",
            "__________________________________________________________________________________________________\n",
            "conv4_block5_2_pad (ZeroPadding (None, 16, 16, 256)  0           conv4_block5_1_relu[0][0]        \n",
            "__________________________________________________________________________________________________\n",
            "conv4_block5_2_conv (Conv2D)    (None, 14, 14, 256)  589824      conv4_block5_2_pad[0][0]         \n",
            "__________________________________________________________________________________________________\n",
            "conv4_block5_2_bn (BatchNormali (None, 14, 14, 256)  1024        conv4_block5_2_conv[0][0]        \n",
            "__________________________________________________________________________________________________\n",
            "conv4_block5_2_relu (Activation (None, 14, 14, 256)  0           conv4_block5_2_bn[0][0]          \n",
            "__________________________________________________________________________________________________\n",
            "conv4_block5_3_conv (Conv2D)    (None, 14, 14, 1024) 263168      conv4_block5_2_relu[0][0]        \n",
            "__________________________________________________________________________________________________\n",
            "conv4_block5_out (Add)          (None, 14, 14, 1024) 0           conv4_block4_out[0][0]           \n",
            "                                                                 conv4_block5_3_conv[0][0]        \n",
            "__________________________________________________________________________________________________\n",
            "conv4_block6_preact_bn (BatchNo (None, 14, 14, 1024) 4096        conv4_block5_out[0][0]           \n",
            "__________________________________________________________________________________________________\n",
            "conv4_block6_preact_relu (Activ (None, 14, 14, 1024) 0           conv4_block6_preact_bn[0][0]     \n",
            "__________________________________________________________________________________________________\n",
            "conv4_block6_1_conv (Conv2D)    (None, 14, 14, 256)  262144      conv4_block6_preact_relu[0][0]   \n",
            "__________________________________________________________________________________________________\n",
            "conv4_block6_1_bn (BatchNormali (None, 14, 14, 256)  1024        conv4_block6_1_conv[0][0]        \n",
            "__________________________________________________________________________________________________\n",
            "conv4_block6_1_relu (Activation (None, 14, 14, 256)  0           conv4_block6_1_bn[0][0]          \n",
            "__________________________________________________________________________________________________\n",
            "conv4_block6_2_pad (ZeroPadding (None, 16, 16, 256)  0           conv4_block6_1_relu[0][0]        \n",
            "__________________________________________________________________________________________________\n",
            "conv4_block6_2_conv (Conv2D)    (None, 7, 7, 256)    589824      conv4_block6_2_pad[0][0]         \n",
            "__________________________________________________________________________________________________\n",
            "conv4_block6_2_bn (BatchNormali (None, 7, 7, 256)    1024        conv4_block6_2_conv[0][0]        \n",
            "__________________________________________________________________________________________________\n",
            "conv4_block6_2_relu (Activation (None, 7, 7, 256)    0           conv4_block6_2_bn[0][0]          \n",
            "__________________________________________________________________________________________________\n",
            "max_pooling2d_2 (MaxPooling2D)  (None, 7, 7, 1024)   0           conv4_block5_out[0][0]           \n",
            "__________________________________________________________________________________________________\n",
            "conv4_block6_3_conv (Conv2D)    (None, 7, 7, 1024)   263168      conv4_block6_2_relu[0][0]        \n",
            "__________________________________________________________________________________________________\n",
            "conv4_block6_out (Add)          (None, 7, 7, 1024)   0           max_pooling2d_2[0][0]            \n",
            "                                                                 conv4_block6_3_conv[0][0]        \n",
            "__________________________________________________________________________________________________\n",
            "conv5_block1_preact_bn (BatchNo (None, 7, 7, 1024)   4096        conv4_block6_out[0][0]           \n",
            "__________________________________________________________________________________________________\n",
            "conv5_block1_preact_relu (Activ (None, 7, 7, 1024)   0           conv5_block1_preact_bn[0][0]     \n",
            "__________________________________________________________________________________________________\n",
            "conv5_block1_1_conv (Conv2D)    (None, 7, 7, 512)    524288      conv5_block1_preact_relu[0][0]   \n",
            "__________________________________________________________________________________________________\n",
            "conv5_block1_1_bn (BatchNormali (None, 7, 7, 512)    2048        conv5_block1_1_conv[0][0]        \n",
            "__________________________________________________________________________________________________\n",
            "conv5_block1_1_relu (Activation (None, 7, 7, 512)    0           conv5_block1_1_bn[0][0]          \n",
            "__________________________________________________________________________________________________\n",
            "conv5_block1_2_pad (ZeroPadding (None, 9, 9, 512)    0           conv5_block1_1_relu[0][0]        \n",
            "__________________________________________________________________________________________________\n",
            "conv5_block1_2_conv (Conv2D)    (None, 7, 7, 512)    2359296     conv5_block1_2_pad[0][0]         \n",
            "__________________________________________________________________________________________________\n",
            "conv5_block1_2_bn (BatchNormali (None, 7, 7, 512)    2048        conv5_block1_2_conv[0][0]        \n",
            "__________________________________________________________________________________________________\n",
            "conv5_block1_2_relu (Activation (None, 7, 7, 512)    0           conv5_block1_2_bn[0][0]          \n",
            "__________________________________________________________________________________________________\n",
            "conv5_block1_0_conv (Conv2D)    (None, 7, 7, 2048)   2099200     conv5_block1_preact_relu[0][0]   \n",
            "__________________________________________________________________________________________________\n",
            "conv5_block1_3_conv (Conv2D)    (None, 7, 7, 2048)   1050624     conv5_block1_2_relu[0][0]        \n",
            "__________________________________________________________________________________________________\n",
            "conv5_block1_out (Add)          (None, 7, 7, 2048)   0           conv5_block1_0_conv[0][0]        \n",
            "                                                                 conv5_block1_3_conv[0][0]        \n",
            "__________________________________________________________________________________________________\n",
            "conv5_block2_preact_bn (BatchNo (None, 7, 7, 2048)   8192        conv5_block1_out[0][0]           \n",
            "__________________________________________________________________________________________________\n",
            "conv5_block2_preact_relu (Activ (None, 7, 7, 2048)   0           conv5_block2_preact_bn[0][0]     \n",
            "__________________________________________________________________________________________________\n",
            "conv5_block2_1_conv (Conv2D)    (None, 7, 7, 512)    1048576     conv5_block2_preact_relu[0][0]   \n",
            "__________________________________________________________________________________________________\n",
            "conv5_block2_1_bn (BatchNormali (None, 7, 7, 512)    2048        conv5_block2_1_conv[0][0]        \n",
            "__________________________________________________________________________________________________\n",
            "conv5_block2_1_relu (Activation (None, 7, 7, 512)    0           conv5_block2_1_bn[0][0]          \n",
            "__________________________________________________________________________________________________\n",
            "conv5_block2_2_pad (ZeroPadding (None, 9, 9, 512)    0           conv5_block2_1_relu[0][0]        \n",
            "__________________________________________________________________________________________________\n",
            "conv5_block2_2_conv (Conv2D)    (None, 7, 7, 512)    2359296     conv5_block2_2_pad[0][0]         \n",
            "__________________________________________________________________________________________________\n",
            "conv5_block2_2_bn (BatchNormali (None, 7, 7, 512)    2048        conv5_block2_2_conv[0][0]        \n",
            "__________________________________________________________________________________________________\n",
            "conv5_block2_2_relu (Activation (None, 7, 7, 512)    0           conv5_block2_2_bn[0][0]          \n",
            "__________________________________________________________________________________________________\n",
            "conv5_block2_3_conv (Conv2D)    (None, 7, 7, 2048)   1050624     conv5_block2_2_relu[0][0]        \n",
            "__________________________________________________________________________________________________\n",
            "conv5_block2_out (Add)          (None, 7, 7, 2048)   0           conv5_block1_out[0][0]           \n",
            "                                                                 conv5_block2_3_conv[0][0]        \n",
            "__________________________________________________________________________________________________\n",
            "conv5_block3_preact_bn (BatchNo (None, 7, 7, 2048)   8192        conv5_block2_out[0][0]           \n",
            "__________________________________________________________________________________________________\n",
            "conv5_block3_preact_relu (Activ (None, 7, 7, 2048)   0           conv5_block3_preact_bn[0][0]     \n",
            "__________________________________________________________________________________________________\n",
            "conv5_block3_1_conv (Conv2D)    (None, 7, 7, 512)    1048576     conv5_block3_preact_relu[0][0]   \n",
            "__________________________________________________________________________________________________\n",
            "conv5_block3_1_bn (BatchNormali (None, 7, 7, 512)    2048        conv5_block3_1_conv[0][0]        \n",
            "__________________________________________________________________________________________________\n",
            "conv5_block3_1_relu (Activation (None, 7, 7, 512)    0           conv5_block3_1_bn[0][0]          \n",
            "__________________________________________________________________________________________________\n",
            "conv5_block3_2_pad (ZeroPadding (None, 9, 9, 512)    0           conv5_block3_1_relu[0][0]        \n",
            "__________________________________________________________________________________________________\n",
            "conv5_block3_2_conv (Conv2D)    (None, 7, 7, 512)    2359296     conv5_block3_2_pad[0][0]         \n",
            "__________________________________________________________________________________________________\n",
            "conv5_block3_2_bn (BatchNormali (None, 7, 7, 512)    2048        conv5_block3_2_conv[0][0]        \n",
            "__________________________________________________________________________________________________\n",
            "conv5_block3_2_relu (Activation (None, 7, 7, 512)    0           conv5_block3_2_bn[0][0]          \n",
            "__________________________________________________________________________________________________\n",
            "conv5_block3_3_conv (Conv2D)    (None, 7, 7, 2048)   1050624     conv5_block3_2_relu[0][0]        \n",
            "__________________________________________________________________________________________________\n",
            "conv5_block3_out (Add)          (None, 7, 7, 2048)   0           conv5_block2_out[0][0]           \n",
            "                                                                 conv5_block3_3_conv[0][0]        \n",
            "__________________________________________________________________________________________________\n",
            "post_bn (BatchNormalization)    (None, 7, 7, 2048)   8192        conv5_block3_out[0][0]           \n",
            "__________________________________________________________________________________________________\n",
            "post_relu (Activation)          (None, 7, 7, 2048)   0           post_bn[0][0]                    \n",
            "__________________________________________________________________________________________________\n",
            "global_average_pooling2d (Globa (None, 2048)         0           post_relu[0][0]                  \n",
            "__________________________________________________________________________________________________\n",
            "dense (Dense)                   (None, 2048)         4196352     global_average_pooling2d[0][0]   \n",
            "__________________________________________________________________________________________________\n",
            "dense_1 (Dense)                 (None, 2048)         4196352     dense[0][0]                      \n",
            "__________________________________________________________________________________________________\n",
            "batch_normalization (BatchNorma (None, 2048)         8192        dense_1[0][0]                    \n",
            "__________________________________________________________________________________________________\n",
            "dropout (Dropout)               (None, 2048)         0           batch_normalization[0][0]        \n",
            "__________________________________________________________________________________________________\n",
            "dense_2 (Dense)                 (None, 196)          401604      dropout[0][0]                    \n",
            "==================================================================================================\n",
            "Total params: 32,367,300\n",
            "Trainable params: 32,162,500\n",
            "Non-trainable params: 204,800\n",
            "__________________________________________________________________________________________________\n"
          ],
          "name": "stdout"
        }
      ]
    },
    {
      "cell_type": "code",
      "metadata": {
        "id": "YNS_Or_BIth7",
        "colab": {
          "base_uri": "https://localhost:8080/",
          "height": 50
        },
        "outputId": "fb42bebb-7a1b-435c-ae4e-251d6ae9b55f"
      },
      "source": [
        "train_datagen = ImageDataGenerator(rescale=1./255,\n",
        "                                   width_shift_range=0.1,\n",
        "                                   height_shift_range=0.1,\n",
        "                                   horizontal_flip=True,\n",
        "                                   vertical_flip=True,\n",
        "                                   zoom_range=0.2)\n",
        "\n",
        "test_datagen = ImageDataGenerator(rescale=1./255)\n",
        "\n",
        "train_generator = train_datagen.flow_from_directory('/tmp/car_ims/train/', target_size=(224, 224), class_mode='categorical', batch_size=32)\n",
        "test_generator = test_datagen.flow_from_directory('/tmp/car_ims/valid/', target_size=(224, 224), class_mode='categorical', batch_size=32)"
      ],
      "execution_count": null,
      "outputs": [
        {
          "output_type": "stream",
          "text": [
            "Found 12948 images belonging to 196 classes.\n",
            "Found 3237 images belonging to 196 classes.\n"
          ],
          "name": "stdout"
        }
      ]
    },
    {
      "cell_type": "code",
      "metadata": {
        "id": "W7RrBlQLdCEH",
        "colab": {
          "base_uri": "https://localhost:8080/",
          "height": 1000
        },
        "outputId": "d672c5b2-fc55-4084-fa73-82ff859604a9"
      },
      "source": [
        "with tf.device(\"GPU:0\"):\n",
        "  history = model.fit(train_generator, epochs=40, steps_per_epoch= 100, validation_data=test_generator, callbacks=[reduce_lr])"
      ],
      "execution_count": null,
      "outputs": [
        {
          "output_type": "stream",
          "text": [
            "Epoch 1/40\n",
            "100/100 [==============================] - 97s 965ms/step - loss: 6.5316 - accuracy: 0.0100 - val_loss: 5.0673 - val_accuracy: 0.0297\n",
            "Epoch 2/40\n",
            "100/100 [==============================] - 93s 926ms/step - loss: 5.5345 - accuracy: 0.0422 - val_loss: 4.5882 - val_accuracy: 0.0754\n",
            "Epoch 3/40\n",
            "100/100 [==============================] - 94s 936ms/step - loss: 4.7509 - accuracy: 0.0897 - val_loss: 4.0019 - val_accuracy: 0.1470\n",
            "Epoch 4/40\n",
            "100/100 [==============================] - 93s 933ms/step - loss: 4.1560 - accuracy: 0.1434 - val_loss: 3.4800 - val_accuracy: 0.2122\n",
            "Epoch 5/40\n",
            "100/100 [==============================] - 92s 918ms/step - loss: 3.6232 - accuracy: 0.1997 - val_loss: 2.9192 - val_accuracy: 0.3077\n",
            "Epoch 6/40\n",
            "100/100 [==============================] - 93s 928ms/step - loss: 3.2061 - accuracy: 0.2531 - val_loss: 2.6158 - val_accuracy: 0.3621\n",
            "Epoch 7/40\n",
            "100/100 [==============================] - 92s 923ms/step - loss: 2.8582 - accuracy: 0.3222 - val_loss: 2.3061 - val_accuracy: 0.4328\n",
            "Epoch 8/40\n",
            "100/100 [==============================] - 94s 937ms/step - loss: 2.4989 - accuracy: 0.3878 - val_loss: 2.0410 - val_accuracy: 0.4822\n",
            "Epoch 9/40\n",
            "100/100 [==============================] - 93s 934ms/step - loss: 2.3115 - accuracy: 0.4344 - val_loss: 1.8443 - val_accuracy: 0.5153\n",
            "Epoch 10/40\n",
            "100/100 [==============================] - 94s 940ms/step - loss: 2.0150 - accuracy: 0.4922 - val_loss: 1.7177 - val_accuracy: 0.5468\n",
            "Epoch 11/40\n",
            "100/100 [==============================] - 96s 960ms/step - loss: 1.8386 - accuracy: 0.5207 - val_loss: 1.4171 - val_accuracy: 0.6228\n",
            "Epoch 12/40\n",
            "100/100 [==============================] - 94s 944ms/step - loss: 1.6063 - accuracy: 0.5812 - val_loss: 1.4303 - val_accuracy: 0.6219\n",
            "Epoch 13/40\n",
            "100/100 [==============================] - 94s 941ms/step - loss: 1.5219 - accuracy: 0.6001 - val_loss: 1.2205 - val_accuracy: 0.6750\n",
            "Epoch 14/40\n",
            "100/100 [==============================] - 94s 944ms/step - loss: 1.3613 - accuracy: 0.6371 - val_loss: 1.1540 - val_accuracy: 0.6917\n",
            "Epoch 15/40\n",
            "100/100 [==============================] - 93s 934ms/step - loss: 1.3316 - accuracy: 0.6446 - val_loss: 1.1096 - val_accuracy: 0.7013\n",
            "Epoch 16/40\n",
            "100/100 [==============================] - 94s 942ms/step - loss: 1.2841 - accuracy: 0.6600 - val_loss: 1.0853 - val_accuracy: 0.7068\n",
            "Epoch 17/40\n",
            "100/100 [==============================] - 93s 929ms/step - loss: 1.2701 - accuracy: 0.6566 - val_loss: 1.0686 - val_accuracy: 0.7099\n",
            "Epoch 18/40\n",
            "100/100 [==============================] - 93s 930ms/step - loss: 1.2283 - accuracy: 0.6681 - val_loss: 1.0496 - val_accuracy: 0.7179\n",
            "Epoch 19/40\n",
            "100/100 [==============================] - 94s 943ms/step - loss: 1.2132 - accuracy: 0.6794 - val_loss: 1.0197 - val_accuracy: 0.7226\n",
            "Epoch 20/40\n",
            "100/100 [==============================] - 93s 933ms/step - loss: 1.2115 - accuracy: 0.6744 - val_loss: 1.0069 - val_accuracy: 0.7263\n",
            "Epoch 21/40\n",
            "100/100 [==============================] - 94s 939ms/step - loss: 1.1664 - accuracy: 0.6853 - val_loss: 0.9868 - val_accuracy: 0.7322\n",
            "Epoch 22/40\n",
            "100/100 [==============================] - 95s 951ms/step - loss: 1.1106 - accuracy: 0.7103 - val_loss: 0.9762 - val_accuracy: 0.7343\n",
            "Epoch 23/40\n",
            "100/100 [==============================] - 94s 939ms/step - loss: 1.0831 - accuracy: 0.7059 - val_loss: 0.9544 - val_accuracy: 0.7417\n",
            "Epoch 24/40\n",
            "100/100 [==============================] - 93s 934ms/step - loss: 1.0644 - accuracy: 0.7124 - val_loss: 0.9398 - val_accuracy: 0.7445\n",
            "Epoch 25/40\n",
            "100/100 [==============================] - 94s 942ms/step - loss: 1.0664 - accuracy: 0.7103 - val_loss: 0.9299 - val_accuracy: 0.7492\n",
            "Epoch 26/40\n",
            "100/100 [==============================] - 95s 946ms/step - loss: 1.0099 - accuracy: 0.7231 - val_loss: 0.9179 - val_accuracy: 0.7495\n",
            "Epoch 27/40\n",
            "100/100 [==============================] - 95s 946ms/step - loss: 0.9979 - accuracy: 0.7315 - val_loss: 0.9053 - val_accuracy: 0.7541\n",
            "Epoch 28/40\n",
            "100/100 [==============================] - 94s 939ms/step - loss: 0.9992 - accuracy: 0.7281 - val_loss: 0.8916 - val_accuracy: 0.7606\n",
            "Epoch 29/40\n",
            "100/100 [==============================] - 93s 928ms/step - loss: 0.9352 - accuracy: 0.7400 - val_loss: 0.8790 - val_accuracy: 0.7618\n",
            "Epoch 30/40\n",
            "100/100 [==============================] - 94s 937ms/step - loss: 0.9119 - accuracy: 0.7453 - val_loss: 0.8703 - val_accuracy: 0.7634\n",
            "Epoch 31/40\n",
            "100/100 [==============================] - 95s 950ms/step - loss: 0.9407 - accuracy: 0.7437 - val_loss: 0.8558 - val_accuracy: 0.7720\n",
            "Epoch 32/40\n",
            "100/100 [==============================] - 95s 955ms/step - loss: 0.8806 - accuracy: 0.7566 - val_loss: 0.8413 - val_accuracy: 0.7754\n",
            "Epoch 33/40\n",
            "100/100 [==============================] - 96s 959ms/step - loss: 0.8948 - accuracy: 0.7572 - val_loss: 0.8309 - val_accuracy: 0.7760\n",
            "Epoch 34/40\n",
            "100/100 [==============================] - 95s 949ms/step - loss: 0.8665 - accuracy: 0.7613 - val_loss: 0.8262 - val_accuracy: 0.7763\n",
            "Epoch 35/40\n",
            "100/100 [==============================] - 96s 959ms/step - loss: 0.8541 - accuracy: 0.7638 - val_loss: 0.8156 - val_accuracy: 0.7711\n",
            "Epoch 36/40\n",
            "100/100 [==============================] - 95s 948ms/step - loss: 0.8389 - accuracy: 0.7706 - val_loss: 0.8147 - val_accuracy: 0.7739\n",
            "Epoch 37/40\n",
            "100/100 [==============================] - 93s 929ms/step - loss: 0.8466 - accuracy: 0.7528 - val_loss: 0.8144 - val_accuracy: 0.7732\n",
            "Epoch 38/40\n",
            "100/100 [==============================] - 93s 928ms/step - loss: 0.7987 - accuracy: 0.7750 - val_loss: 0.8128 - val_accuracy: 0.7732\n",
            "Epoch 39/40\n",
            "100/100 [==============================] - 92s 918ms/step - loss: 0.8099 - accuracy: 0.7694 - val_loss: 0.8150 - val_accuracy: 0.7714\n",
            "Epoch 40/40\n",
            "100/100 [==============================] - 92s 920ms/step - loss: 0.7932 - accuracy: 0.7859 - val_loss: 0.8149 - val_accuracy: 0.7726\n"
          ],
          "name": "stdout"
        }
      ]
    },
    {
      "cell_type": "code",
      "metadata": {
        "id": "l9GVyBJusmPR",
        "colab": {
          "base_uri": "https://localhost:8080/",
          "height": 34
        },
        "outputId": "75a9f5b7-ce04-450d-f648-211da4575b57"
      },
      "source": [
        "model.metrics_names"
      ],
      "execution_count": null,
      "outputs": [
        {
          "output_type": "execute_result",
          "data": {
            "text/plain": [
              "['loss', 'accuracy']"
            ]
          },
          "metadata": {
            "tags": []
          },
          "execution_count": 17
        }
      ]
    },
    {
      "cell_type": "code",
      "metadata": {
        "id": "565Gcw0KrryT",
        "colab": {
          "base_uri": "https://localhost:8080/",
          "height": 67
        },
        "outputId": "798d939e-374c-4c00-93f0-3dba364ae837"
      },
      "source": [
        "evaluation = model.evaluate(test_generator)\n",
        "print('accuracy:', evaluation[1])\n",
        "print('loss:', evaluation[0])"
      ],
      "execution_count": null,
      "outputs": [
        {
          "output_type": "stream",
          "text": [
            "102/102 [==============================] - 24s 233ms/step - loss: 0.8149 - accuracy: 0.7726\n",
            "accuracy: 0.7726289629936218\n",
            "loss: 0.8148780465126038\n"
          ],
          "name": "stdout"
        }
      ]
    },
    {
      "cell_type": "code",
      "metadata": {
        "id": "dtBLhXvTswTy",
        "colab": {
          "base_uri": "https://localhost:8080/",
          "height": 67
        },
        "outputId": "95de531b-4e4b-4ed0-d2a6-0809f7b67fc5"
      },
      "source": [
        "evaluation = model.evaluate(train_generator)\n",
        "print('accuracy:', evaluation[1])\n",
        "print('loss:', evaluation[0])"
      ],
      "execution_count": null,
      "outputs": [
        {
          "output_type": "stream",
          "text": [
            "405/405 [==============================] - 220s 542ms/step - loss: 0.4756 - accuracy: 0.8804\n",
            "accuracy: 0.880367636680603\n",
            "loss: 0.47559264302253723\n"
          ],
          "name": "stdout"
        }
      ]
    },
    {
      "cell_type": "code",
      "metadata": {
        "id": "_wqiAMzYsXRk",
        "colab": {
          "base_uri": "https://localhost:8080/",
          "height": 296
        },
        "outputId": "14d6546a-3ccc-490d-8512-aeb46e7d3dc6"
      },
      "source": [
        "plt.figure()\n",
        "plt.plot(history.history['accuracy'])\n",
        "plt.plot(history.history['val_accuracy'])\n",
        "plt.xlabel(\"epoch number\")\n",
        "plt.ylabel(\"accuracy\")\n",
        "plt.legend(['train','validation'])"
      ],
      "execution_count": null,
      "outputs": [
        {
          "output_type": "execute_result",
          "data": {
            "text/plain": [
              "<matplotlib.legend.Legend at 0x7f13ae3b8630>"
            ]
          },
          "metadata": {
            "tags": []
          },
          "execution_count": 20
        },
        {
          "output_type": "display_data",
          "data": {
            "image/png": "[encoded data removed]",
            "text/plain": [
              "<Figure size 432x288 with 1 Axes>"
            ]
          },
          "metadata": {
            "tags": [],
            "needs_background": "light"
          }
        }
      ]
    },
    {
      "cell_type": "code",
      "metadata": {
        "id": "XshEeZLosYwb",
        "colab": {
          "base_uri": "https://localhost:8080/",
          "height": 296
        },
        "outputId": "995a26db-f422-4a21-be03-743a1de57846"
      },
      "source": [
        "plt.figure()\n",
        "plt.plot(history.history['loss'])\n",
        "plt.plot(history.history['val_loss'])\n",
        "plt.xlabel(\"epoch number\")\n",
        "plt.ylabel(\"loss\")\n",
        "plt.legend(['train','validation'])"
      ],
      "execution_count": null,
      "outputs": [
        {
          "output_type": "execute_result",
          "data": {
            "text/plain": [
              "<matplotlib.legend.Legend at 0x7f13abd5c9e8>"
            ]
          },
          "metadata": {
            "tags": []
          },
          "execution_count": 21
        },
        {
          "output_type": "display_data",
          "data": {
            "image/png": "[encoded data removed]",
            "text/plain": [
              "<Figure size 432x288 with 1 Axes>"
            ]
          },
          "metadata": {
            "tags": [],
            "needs_background": "light"
          }
        }
      ]
    },
    {
      "cell_type": "code",
      "metadata": {
        "id": "3JYw4f3DO8S0",
        "colab": {
          "base_uri": "https://localhost:8080/",
          "height": 34
        },
        "outputId": "676d17e4-d521-42db-a831-cd4e03ff54b1"
      },
      "source": [
        "print(test_generator)"
      ],
      "execution_count": null,
      "outputs": [
        {
          "output_type": "stream",
          "text": [
            "<tensorflow.python.keras.preprocessing.image.DirectoryIterator object at 0x7f140797df28>\n"
          ],
          "name": "stdout"
        }
      ]
    },
    {
      "cell_type": "code",
      "metadata": {
        "id": "GtCJCBvlq7F4",
        "colab": {
          "base_uri": "https://localhost:8080/",
          "height": 34
        },
        "outputId": "35e6ad15-3c6b-4d64-cf63-02775de551ae"
      },
      "source": [
        "test_generator2 = test_datagen.flow_from_directory('/tmp/car_ims/valid/', target_size=(224, 224), class_mode='categorical', batch_size=3237)\n",
        "X, y = next(test_generator2)"
      ],
      "execution_count": null,
      "outputs": [
        {
          "output_type": "stream",
          "text": [
            "Found 3237 images belonging to 196 classes.\n"
          ],
          "name": "stdout"
        }
      ]
    },
    {
      "cell_type": "code",
      "metadata": {
        "id": "KNMfg36fW5F8"
      },
      "source": [
        "yhat = model.predict(X)\n",
        "max_yhat = np.argmax(yhat, axis = -1)"
      ],
      "execution_count": null,
      "outputs": []
    },
    {
      "cell_type": "code",
      "metadata": {
        "id": "lAALK3AAsFUl"
      },
      "source": [
        "y_true = np.argmax(y, axis = -1)"
      ],
      "execution_count": null,
      "outputs": []
    },
    {
      "cell_type": "code",
      "metadata": {
        "id": "pYkIQZGSsPq7",
        "colab": {
          "base_uri": "https://localhost:8080/",
          "height": 84
        },
        "outputId": "fe90db9b-99b2-45e8-fe69-12795063e1e8"
      },
      "source": [
        "print(max_yhat[:20])\n",
        "print(y_true[:20])"
      ],
      "execution_count": null,
      "outputs": [
        {
          "output_type": "stream",
          "text": [
            "[147 129 107  77 100  60  34 190  92 157 180  47 121  62 195 179  76  94\n",
            " 180  71]\n",
            "[147 129 107  77 100  60  25 190  92 157 114  47 121  62 195 179  76  94\n",
            " 183  71]\n"
          ],
          "name": "stdout"
        }
      ]
    },
    {
      "cell_type": "code",
      "metadata": {
        "id": "9eYuh7x-mKVW"
      },
      "source": [
        "from sklearn.metrics import confusion_matrix\n",
        "cm = confusion_matrix(y_true, max_yhat)\n"
      ],
      "execution_count": null,
      "outputs": []
    },
    {
      "cell_type": "code",
      "metadata": {
        "id": "UnwAh9Gwphwy",
        "colab": {
          "base_uri": "https://localhost:8080/",
          "height": 134
        },
        "outputId": "01b11923-68a7-43e0-a563-f7ba24e2de83"
      },
      "source": [
        "cm"
      ],
      "execution_count": null,
      "outputs": [
        {
          "output_type": "execute_result",
          "data": {
            "text/plain": [
              "array([[15,  0,  0, ...,  0,  0,  0],\n",
              "       [ 0,  4,  1, ...,  0,  0,  0],\n",
              "       [ 0,  1, 11, ...,  0,  0,  0],\n",
              "       ...,\n",
              "       [ 0,  0,  0, ..., 21,  0,  0],\n",
              "       [ 0,  0,  0, ...,  0, 14,  0],\n",
              "       [ 0,  0,  0, ...,  0,  0, 14]])"
            ]
          },
          "metadata": {
            "tags": []
          },
          "execution_count": 53
        }
      ]
    },
    {
      "cell_type": "code",
      "metadata": {
        "id": "yZ7pMKttu3zv",
        "colab": {
          "base_uri": "https://localhost:8080/",
          "height": 34
        },
        "outputId": "b9059e37-1f2a-45d2-9021-1fc71e760c18"
      },
      "source": [
        "full_sum"
      ],
      "execution_count": null,
      "outputs": [
        {
          "output_type": "execute_result",
          "data": {
            "text/plain": [
              "3237"
            ]
          },
          "metadata": {
            "tags": []
          },
          "execution_count": 57
        }
      ]
    },
    {
      "cell_type": "code",
      "metadata": {
        "id": "QBUMmVeEuBVh",
        "colab": {
          "base_uri": "https://localhost:8080/",
          "height": 1000
        },
        "outputId": "73780b38-80cb-4fa6-9dce-1655eab4c3b3"
      },
      "source": [
        "column_sums = np.sum(cm, axis=1)\n",
        "row_sums = np.sum(cm, axis=0)\n",
        "full_sum = np.sum(cm)\n",
        "\n",
        "for i in range(196):\n",
        "  correct = cm[i][i]\n",
        "  total = column_sums[i]\n",
        "  accuracy = correct/total\n",
        "  print('class',i,':',accuracy)"
      ],
      "execution_count": null,
      "outputs": [
        {
          "output_type": "stream",
          "text": [
            "class 0 : 1.0\n",
            "class 1 : 0.5714285714285714\n",
            "class 2 : 0.8461538461538461\n",
            "class 3 : 0.7857142857142857\n",
            "class 4 : 0.5217391304347826\n",
            "class 5 : 0.75\n",
            "class 6 : 0.9375\n",
            "class 7 : 0.5263157894736842\n",
            "class 8 : 0.2962962962962963\n",
            "class 9 : 0.7\n",
            "class 10 : 0.8\n",
            "class 11 : 0.8421052631578947\n",
            "class 12 : 0.46153846153846156\n",
            "class 13 : 0.3181818181818182\n",
            "class 14 : 0.8181818181818182\n",
            "class 15 : 0.7\n",
            "class 16 : 0.5789473684210527\n",
            "class 17 : 0.6190476190476191\n",
            "class 18 : 0.7142857142857143\n",
            "class 19 : 0.7407407407407407\n",
            "class 20 : 0.72\n",
            "class 21 : 0.8\n",
            "class 22 : 0.2857142857142857\n",
            "class 23 : 0.8333333333333334\n",
            "class 24 : 0.625\n",
            "class 25 : 0.8\n",
            "class 26 : 0.8666666666666667\n",
            "class 27 : 0.5\n",
            "class 28 : 0.75\n",
            "class 29 : 0.7142857142857143\n",
            "class 30 : 0.46153846153846156\n",
            "class 31 : 0.8125\n",
            "class 32 : 0.7857142857142857\n",
            "class 33 : 0.6875\n",
            "class 34 : 0.5\n",
            "class 35 : 0.5789473684210527\n",
            "class 36 : 0.9285714285714286\n",
            "class 37 : 0.6666666666666666\n",
            "class 38 : 0.6666666666666666\n",
            "class 39 : 0.9090909090909091\n",
            "class 40 : 0.8125\n",
            "class 41 : 0.4166666666666667\n",
            "class 42 : 0.7058823529411765\n",
            "class 43 : 0.6111111111111112\n",
            "class 44 : 0.7333333333333333\n",
            "class 45 : 0.7894736842105263\n",
            "class 46 : 0.7142857142857143\n",
            "class 47 : 0.8823529411764706\n",
            "class 48 : 0.8421052631578947\n",
            "class 49 : 0.8823529411764706\n",
            "class 50 : 0.9230769230769231\n",
            "class 51 : 0.8571428571428571\n",
            "class 52 : 0.8636363636363636\n",
            "class 53 : 0.25\n",
            "class 54 : 1.0\n",
            "class 55 : 0.4090909090909091\n",
            "class 56 : 0.8461538461538461\n",
            "class 57 : 1.0\n",
            "class 58 : 0.5714285714285714\n",
            "class 59 : 0.8947368421052632\n",
            "class 60 : 0.8571428571428571\n",
            "class 61 : 0.7777777777777778\n",
            "class 62 : 0.8571428571428571\n",
            "class 63 : 0.18181818181818182\n",
            "class 64 : 0.6875\n",
            "class 65 : 0.6666666666666666\n",
            "class 66 : 1.0\n",
            "class 67 : 0.8461538461538461\n",
            "class 68 : 0.6\n",
            "class 69 : 0.8666666666666667\n",
            "class 70 : 0.3888888888888889\n",
            "class 71 : 0.5\n",
            "class 72 : 0.6470588235294118\n",
            "class 73 : 0.6\n",
            "class 74 : 0.7058823529411765\n",
            "class 75 : 0.7777777777777778\n",
            "class 76 : 0.7647058823529411\n",
            "class 77 : 0.9375\n",
            "class 78 : 0.9375\n",
            "class 79 : 0.9090909090909091\n",
            "class 80 : 0.8125\n",
            "class 81 : 0.8181818181818182\n",
            "class 82 : 0.65\n",
            "class 83 : 1.0\n",
            "class 84 : 0.875\n",
            "class 85 : 0.8235294117647058\n",
            "class 86 : 0.8461538461538461\n",
            "class 87 : 0.6\n",
            "class 88 : 0.9166666666666666\n",
            "class 89 : 0.5625\n",
            "class 90 : 0.9090909090909091\n",
            "class 91 : 0.7333333333333333\n",
            "class 92 : 0.9285714285714286\n",
            "class 93 : 0.8666666666666667\n",
            "class 94 : 0.75\n",
            "class 95 : 0.8\n",
            "class 96 : 0.7857142857142857\n",
            "class 97 : 0.7142857142857143\n",
            "class 98 : 1.0\n",
            "class 99 : 1.0\n",
            "class 100 : 0.9333333333333333\n",
            "class 101 : 0.7619047619047619\n",
            "class 102 : 0.75\n",
            "class 103 : 0.4444444444444444\n",
            "class 104 : 0.8666666666666667\n",
            "class 105 : 0.8\n",
            "class 106 : 0.782608695652174\n",
            "class 107 : 0.8461538461538461\n",
            "class 108 : 0.7727272727272727\n",
            "class 109 : 0.782608695652174\n",
            "class 110 : 0.9230769230769231\n",
            "class 111 : 0.8\n",
            "class 112 : 0.8571428571428571\n",
            "class 113 : 0.8125\n",
            "class 114 : 0.6153846153846154\n",
            "class 115 : 1.0\n",
            "class 116 : 0.875\n",
            "class 117 : 0.8571428571428571\n",
            "class 118 : 0.84\n",
            "class 119 : 0.8333333333333334\n",
            "class 120 : 0.7391304347826086\n",
            "class 121 : 0.6190476190476191\n",
            "class 122 : 1.0\n",
            "class 123 : 0.875\n",
            "class 124 : 0.7058823529411765\n",
            "class 125 : 0.9473684210526315\n",
            "class 126 : 0.75\n",
            "class 127 : 0.5\n",
            "class 128 : 0.8571428571428571\n",
            "class 129 : 0.9333333333333333\n",
            "class 130 : 1.0\n",
            "class 131 : 0.75\n",
            "class 132 : 0.6842105263157895\n",
            "class 133 : 0.8125\n",
            "class 134 : 0.8064516129032258\n",
            "class 135 : 0.6153846153846154\n",
            "class 136 : 0.8888888888888888\n",
            "class 137 : 0.9375\n",
            "class 138 : 0.8666666666666667\n",
            "class 139 : 0.9444444444444444\n",
            "class 140 : 0.6666666666666666\n",
            "class 141 : 0.9333333333333333\n",
            "class 142 : 0.6875\n",
            "class 143 : 0.42857142857142855\n",
            "class 144 : 0.7142857142857143\n",
            "class 145 : 0.9545454545454546\n",
            "class 146 : 0.7\n",
            "class 147 : 0.6190476190476191\n",
            "class 148 : 0.9375\n",
            "class 149 : 0.9411764705882353\n",
            "class 150 : 0.9\n",
            "class 151 : 0.9230769230769231\n",
            "class 152 : 0.9375\n",
            "class 153 : 0.9444444444444444\n",
            "class 154 : 0.8636363636363636\n",
            "class 155 : 0.9411764705882353\n",
            "class 156 : 1.0\n",
            "class 157 : 0.6923076923076923\n",
            "class 158 : 0.8\n",
            "class 159 : 0.875\n",
            "class 160 : 0.76\n",
            "class 161 : 0.9285714285714286\n",
            "class 162 : 1.0\n",
            "class 163 : 1.0\n",
            "class 164 : 0.9285714285714286\n",
            "class 165 : 0.782608695652174\n",
            "class 166 : 0.8571428571428571\n",
            "class 167 : 0.9545454545454546\n",
            "class 168 : 0.95\n",
            "class 169 : 0.8947368421052632\n",
            "class 170 : 0.75\n",
            "class 171 : 0.85\n",
            "class 172 : 0.8\n",
            "class 173 : 0.7857142857142857\n",
            "class 174 : 0.6363636363636364\n",
            "class 175 : 0.6470588235294118\n",
            "class 176 : 0.7058823529411765\n",
            "class 177 : 0.9375\n",
            "class 178 : 0.7142857142857143\n",
            "class 179 : 0.7\n",
            "class 180 : 0.6111111111111112\n",
            "class 181 : 0.8461538461538461\n",
            "class 182 : 0.75\n",
            "class 183 : 0.7777777777777778\n",
            "class 184 : 0.875\n",
            "class 185 : 0.7647058823529411\n",
            "class 186 : 0.8333333333333334\n",
            "class 187 : 0.75\n",
            "class 188 : 0.875\n",
            "class 189 : 0.8333333333333334\n",
            "class 190 : 0.9285714285714286\n",
            "class 191 : 1.0\n",
            "class 192 : 0.9\n",
            "class 193 : 1.0\n",
            "class 194 : 0.9333333333333333\n",
            "class 195 : 0.875\n"
          ],
          "name": "stdout"
        }
      ]
    },
    {
      "cell_type": "code",
      "metadata": {
        "id": "L8RfxHBku1oN"
      },
      "source": [
        ""
      ],
      "execution_count": null,
      "outputs": []
    }
  ]
}